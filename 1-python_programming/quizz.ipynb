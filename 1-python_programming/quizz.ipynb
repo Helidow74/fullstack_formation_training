{
 "cells": [
  {
   "cell_type": "markdown",
   "metadata": {
    "id": "FY347VxWs_bJ"
   },
   "source": [
    "# Build a quizz\n",
    "\n",
    "**First version** (raw coding)\n",
    "\n",
    "---\n",
    "\n",
    "\n"
   ]
  },
  {
   "cell_type": "code",
   "execution_count": null,
   "metadata": {
    "colab": {
     "base_uri": "https://localhost:8080/"
    },
    "executionInfo": {
     "elapsed": 28975,
     "status": "ok",
     "timestamp": 1695209025782,
     "user": {
      "displayName": "ursula dubois",
      "userId": "02331993589671185604"
     },
     "user_tz": -120
    },
    "id": "adKPQe1Hsi2g",
    "outputId": "b721004d-1ecb-40d7-9c27-02baed08c44d",
    "tags": []
   },
   "outputs": [],
   "source": [
    "lives = 2\n",
    "\n",
    "if lives > 0 :\n",
    "    print(\"-------------- Question 1 --------------\")\n",
    "    print(\"1) Paris\")\n",
    "    print(\"2) Rome\")\n",
    "    print(\"3) Moscou\")\n",
    "    print(\"4) Marseille\")\n",
    "    user_answer = input(\"\\nQuelle est la capitale de la France ? (Entrez le numéro de votre choix)  \")\n",
    "\n",
    "    while user_answer != \"1\" :\n",
    "      print(\"\\nToo bad ! That is not the correct answer.\\n\")\n",
    "      lives -= 1\n",
    "      user_answer = input(\"\\nQuelle est la capitale de la France ? (Entrez le numéro de votre choix)  \")\n",
    "      if lives == 0 :\n",
    "        print(\"\\n-------------------------------------------------\")\n",
    "        print(\"Too bad, you lost the game !\")\n",
    "        print(\"-------------------------------------------------\")\n",
    "        break\n",
    "\n",
    "    if user_answer == \"1\" :\n",
    "      print(\"\\nGood job! This is the right answer \\n\")\n",
    "\n",
    "\n",
    "if lives > 0 :\n",
    "    print(\"-------------- Question 2 --------------\")\n",
    "    print(\"1) Moscou\")\n",
    "    print(\"2) Paris\")\n",
    "    print(\"3) Marseille\")\n",
    "    print(\"4) Rome\")\n",
    "    user_answer = input(\"\\nQuelle est la capitale de la Russie ? (Entrez le numéro de votre choix)  \")\n",
    "\n",
    "    while user_answer != \"1\":\n",
    "      print(\"\\nToo bad ! That is not the correct answer.\\n\")\n",
    "      lives -= 1\n",
    "      user_answer = input(\"\\nQuelle est la capitale de la Russie ? (Entrez le numéro de votre choix)  \")\n",
    "      if lives == 0 :\n",
    "       print(\"\\n-------------------------------------------------\")\n",
    "       print(\"Too bad, you lost the game !\")\n",
    "       print(\"-------------------------------------------------\")\n",
    "       break\n",
    "\n",
    "    if user_answer == \"1\" :\n",
    "      print(\"\\nGood job! This is the right answer \\n\")\n",
    "\n",
    "\n",
    "if lives > 0 :\n",
    "    print(\"-------------- Question 3 --------------\")\n",
    "    print(\"1) Marseille\")\n",
    "    print(\"2) Moscou\")\n",
    "    print(\"3) Paris\")\n",
    "    print(\"4) Rome\")\n",
    "    user_answer = input(\"\\nQuelle est la capitale de l'Italie' ? (Entrez le numéro de votre choix)  \")\n",
    "\n",
    "    while user_answer !=\"4\" :\n",
    "      print(\"\\nToo bad ! That is not the correct answer.\\n\")\n",
    "      lives -= 1\n",
    "      user_answer = input(\"\\nQuelle est la capitale de l'Italie' ? (Entrez le numéro de votre choix)  \")\n",
    "      if lives == 0 :\n",
    "        print(\"\\n-------------------------------------------------\")\n",
    "        print(\"Too bad, you lost the game !\")\n",
    "        print(\"-------------------------------------------------\")\n",
    "        break\n",
    "\n",
    "    if user_answer == \"4\":\n",
    "      print(\"\\nGood job! This is the right answer\\n \")\n",
    "\n",
    "\n",
    "if lives > 0 :\n",
    "  print(\"\\n-----------------------------------------------\")\n",
    "  print(\"       Congratulations, you won the game !\")\n",
    "  print(\"-------------------------------------------------\")\n"
   ]
  },
  {
   "cell_type": "markdown",
   "metadata": {
    "id": "nh4voWn8x3dM"
   },
   "source": [
    "**Second version** : refactorised (**WIP**)\n",
    "\n",
    "-------------------------------"
   ]
  },
  {
   "cell_type": "code",
   "execution_count": null,
   "metadata": {
    "colab": {
     "base_uri": "https://localhost:8080/",
     "height": 1000
    },
    "executionInfo": {
     "elapsed": 24316,
     "status": "error",
     "timestamp": 1695213539124,
     "user": {
      "displayName": "ursula dubois",
      "userId": "02331993589671185604"
     },
     "user_tz": -120
    },
    "id": "rA-XJKh-orgc",
    "outputId": "20f27ee8-f816-464f-cfaa-06284bd207b4"
   },
   "outputs": [],
   "source": [
    "def ask_question(questions):\n",
    "  lives = 3\n",
    "  for question in quizz_questions :\n",
    "        if lives != 0 :\n",
    "          print(lives)\n",
    "          print(\"-----------------------------------\")\n",
    "          for element in question[1]:\n",
    "            print(f\"{element}\\n\")\n",
    "          user_answer = input(f\"\\n{question[0]}  \")\n",
    "          while user_answer != question[2]:\n",
    "              print(\"\\n\\nDésolé, ce n'est pas la bonne réponse.\\n\")\n",
    "              lives -= 1\n",
    "              print(lives)\n",
    "              user_answer = input(user_answer = input(f\"\\n{question[0]}  \"))\n",
    "              if lives == 0 :\n",
    "                print(\"\\n-------------------------------------------------\")\n",
    "                print(\"Désolé, vous avez perdu ! \\nFin du jeu.\")\n",
    "                print(\"-------------------------------------------------\")\n",
    "                break\n",
    "          print(\"\\nBravo ! Vous avez trouvé la bonne réponse ! \\n\")\n",
    "\n",
    "\n",
    "quizz_questions = (\n",
    "    (\"Quelle est la capitale de la France ? (Entrez le numéro de votre choix)\", (\"1) Paris\", \"2) Rome\", \"3) Moscou\", \"4) Marseille\"), \"1\"),\n",
    "    (\"Quelle est la capitale de la Russie ? (Entrez le numéro de votre choix)\", (\"1) Paris\", \"2) Rome\", \"3) Moscou\", \"4) Marseille\"), \"3\"),\n",
    "    (\"Quelle est la capitale de l'Italie' ? (Entrez le numéro de votre choix)\", (\"1) Paris\", \"2) Rome\", \"3) Moscou\", \"4) Marseille\"), \"2\")\n",
    ")\n",
    "\n",
    "\n",
    "ask_question(quizz_questions)"
   ]
  },
  {
   "cell_type": "code",
   "execution_count": null,
   "metadata": {
    "executionInfo": {
     "elapsed": 355,
     "status": "ok",
     "timestamp": 1695210350059,
     "user": {
      "displayName": "ursula dubois",
      "userId": "02331993589671185604"
     },
     "user_tz": -120
    },
    "id": "ow0_tqlXrCun"
   },
   "outputs": [],
   "source": []
  },
  {
   "cell_type": "code",
   "execution_count": null,
   "metadata": {
    "executionInfo": {
     "elapsed": 2,
     "status": "ok",
     "timestamp": 1695210350301,
     "user": {
      "displayName": "ursula dubois",
      "userId": "02331993589671185604"
     },
     "user_tz": -120
    },
    "id": "DXTTY1ujCAer"
   },
   "outputs": [],
   "source": []
  },
  {
   "cell_type": "code",
   "execution_count": null,
   "metadata": {
    "executionInfo": {
     "elapsed": 2,
     "status": "ok",
     "timestamp": 1695210350553,
     "user": {
      "displayName": "ursula dubois",
      "userId": "02331993589671185604"
     },
     "user_tz": -120
    },
    "id": "ndQ3UE24DGPq"
   },
   "outputs": [],
   "source": []
  },
  {
   "cell_type": "code",
   "execution_count": null,
   "metadata": {
    "executionInfo": {
     "elapsed": 217,
     "status": "ok",
     "timestamp": 1695211278307,
     "user": {
      "displayName": "ursula dubois",
      "userId": "02331993589671185604"
     },
     "user_tz": -120
    },
    "id": "4pnoWVwJEAWL"
   },
   "outputs": [],
   "source": [
    "\n"
   ]
  },
  {
   "cell_type": "code",
   "execution_count": null,
   "metadata": {
    "id": "h-2jMF95TgJP"
   },
   "outputs": [],
   "source": []
  }
 ],
 "metadata": {
  "colab": {
   "provenance": [
    {
     "file_id": "1ixd2TJK1Xe5w2aWWUUEM5ErwPMc3aLnU",
     "timestamp": 1695106321967
    }
   ]
  },
  "kernelspec": {
   "display_name": "Python 3 (ipykernel)",
   "language": "python",
   "name": "python3"
  },
  "language_info": {
   "codemirror_mode": {
    "name": "ipython",
    "version": 3
   },
   "file_extension": ".py",
   "mimetype": "text/x-python",
   "name": "python",
   "nbconvert_exporter": "python",
   "pygments_lexer": "ipython3",
   "version": "3.10.12"
  }
 },
 "nbformat": 4,
 "nbformat_minor": 1
}
