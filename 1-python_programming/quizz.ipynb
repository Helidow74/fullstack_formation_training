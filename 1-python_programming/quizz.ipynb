{
 "cells": [
  {
   "cell_type": "markdown",
   "metadata": {
    "id": "FY347VxWs_bJ"
   },
   "source": [
    "# Build a quizz\n",
    "\n",
    "**First version** (raw coding)\n",
    "\n",
    "---\n",
    "\n",
    "\n"
   ]
  },
  {
   "cell_type": "code",
   "execution_count": null,
   "metadata": {
    "colab": {
     "base_uri": "https://localhost:8080/"
    },
    "executionInfo": {
     "elapsed": 28975,
     "status": "ok",
     "timestamp": 1695209025782,
     "user": {
      "displayName": "ursula dubois",
      "userId": "02331993589671185604"
     },
     "user_tz": -120
    },
    "id": "adKPQe1Hsi2g",
    "outputId": "b721004d-1ecb-40d7-9c27-02baed08c44d",
    "tags": []
   },
   "outputs": [],
   "source": [
    "lives = 2\n",
    "\n",
    "if lives > 0 :\n",
    "    print(\"-------------- Question 1 --------------\")\n",
    "    print(\"1) Paris\")\n",
    "    print(\"2) Rome\")\n",
    "    print(\"3) Moscou\")\n",
    "    print(\"4) Marseille\")\n",
    "    user_answer = input(\"\\nQuelle est la capitale de la France ? (Entrez le numéro de votre choix)  \")\n",
    "\n",
    "    while user_answer != \"1\" :\n",
    "      print(\"\\nToo bad ! That is not the correct answer.\\n\")\n",
    "      lives -= 1\n",
    "      user_answer = input(\"\\nQuelle est la capitale de la France ? (Entrez le numéro de votre choix)  \")\n",
    "      if lives == 0 :\n",
    "        print(\"\\n-------------------------------------------------\")\n",
    "        print(\"Too bad, you lost the game !\")\n",
    "        print(\"-------------------------------------------------\")\n",
    "        break\n",
    "\n",
    "    if user_answer == \"1\" :\n",
    "      print(\"\\nGood job! This is the right answer \\n\")\n",
    "\n",
    "\n",
    "if lives > 0 :\n",
    "    print(\"-------------- Question 2 --------------\")\n",
    "    print(\"1) Moscou\")\n",
    "    print(\"2) Paris\")\n",
    "    print(\"3) Marseille\")\n",
    "    print(\"4) Rome\")\n",
    "    user_answer = input(\"\\nQuelle est la capitale de la Russie ? (Entrez le numéro de votre choix)  \")\n",
    "\n",
    "    while user_answer != \"1\":\n",
    "      print(\"\\nToo bad ! That is not the correct answer.\\n\")\n",
    "      lives -= 1\n",
    "      user_answer = input(\"\\nQuelle est la capitale de la Russie ? (Entrez le numéro de votre choix)  \")\n",
    "      if lives == 0 :\n",
    "       print(\"\\n-------------------------------------------------\")\n",
    "       print(\"Too bad, you lost the game !\")\n",
    "       print(\"-------------------------------------------------\")\n",
    "       break\n",
    "\n",
    "    if user_answer == \"1\" :\n",
    "      print(\"\\nGood job! This is the right answer \\n\")\n",
    "\n",
    "\n",
    "if lives > 0 :\n",
    "    print(\"-------------- Question 3 --------------\")\n",
    "    print(\"1) Marseille\")\n",
    "    print(\"2) Moscou\")\n",
    "    print(\"3) Paris\")\n",
    "    print(\"4) Rome\")\n",
    "    user_answer = input(\"\\nQuelle est la capitale de l'Italie' ? (Entrez le numéro de votre choix)  \")\n",
    "\n",
    "    while user_answer !=\"4\" :\n",
    "      print(\"\\nToo bad ! That is not the correct answer.\\n\")\n",
    "      lives -= 1\n",
    "      user_answer = input(\"\\nQuelle est la capitale de l'Italie' ? (Entrez le numéro de votre choix)  \")\n",
    "      if lives == 0 :\n",
    "        print(\"\\n-------------------------------------------------\")\n",
    "        print(\"Too bad, you lost the game !\")\n",
    "        print(\"-------------------------------------------------\")\n",
    "        break\n",
    "\n",
    "    if user_answer == \"4\":\n",
    "      print(\"\\nGood job! This is the right answer\\n \")\n",
    "\n",
    "\n",
    "if lives > 0 :\n",
    "  print(\"\\n-----------------------------------------------\")\n",
    "  print(\"       Congratulations, you won the game !\")\n",
    "  print(\"-------------------------------------------------\")\n"
   ]
  },
  {
   "cell_type": "markdown",
   "metadata": {
    "id": "nh4voWn8x3dM"
   },
   "source": [
    "**Second version** : refactorised (**WIP**)\n",
    "\n",
    "-------------------------------"
   ]
  },
  {
   "cell_type": "code",
   "execution_count": 3,
   "metadata": {
    "executionInfo": {
     "elapsed": 2,
     "status": "ok",
     "timestamp": 1695210350301,
     "user": {
      "displayName": "ursula dubois",
      "userId": "02331993589671185604"
     },
     "user_tz": -120
    },
    "id": "DXTTY1ujCAer"
   },
   "outputs": [
    {
     "name": "stdout",
     "output_type": "stream",
     "text": [
      "-------------- Question 1 --------------\n",
      "1) Paris\n",
      "2) Rome\n",
      "3) Moscou\n",
      "4) Marseille\n",
      "\n",
      "Quelle est la capitale de la France ? (Entrez le numéro de votre choix)  2\n",
      "\n",
      "Too bad ! That is not the correct answer.\n",
      "\n",
      "\n",
      "Quelle est la capitale de la France ? (Entrez le numéro de votre choix)  1\n",
      "\n",
      "Good job! This is the right answer \n",
      "\n",
      "\n",
      "-----------------------------------------------\n",
      "       Congratulations, you won the game !\n",
      "-------------------------------------------------\n"
     ]
    }
   ],
   "source": [
    "# this version works. Next step : adding 3 different questions from a tupple passed to the functions\n",
    "\n",
    "lives = 2\n",
    "\n",
    "def ask_question():\n",
    "    print(\"-------------- Question 1 --------------\")\n",
    "    print(\"1) Paris\")\n",
    "    print(\"2) Rome\")\n",
    "    print(\"3) Moscou\")\n",
    "    print(\"4) Marseille\")\n",
    "    user_answer = input(\"\\nQuelle est la capitale de la France ? (Entrez le numéro de votre choix)  \")\n",
    "    return user_answer\n",
    "\n",
    "\n",
    "def evaluate_answer(user_answer, lives):\n",
    "    while user_answer != \"1\" :\n",
    "        print(\"\\nToo bad ! That is not the correct answer.\\n\")\n",
    "        lives -= 1\n",
    "        user_answer = input(\"\\nQuelle est la capitale de la France ? (Entrez le numéro de votre choix)  \")\n",
    "        if lives == 0 :\n",
    "            print(\"\\n-------------------------------------------------\")\n",
    "            print(\"Too bad, you lost the game !\")\n",
    "            print(\"-------------------------------------------------\")\n",
    "            break\n",
    "\n",
    "    if user_answer == \"1\" :\n",
    "        print(\"\\nGood job! This is the right answer \\n\")\n",
    "        if lives == 0:\n",
    "            return lives\n",
    "        else:\n",
    "            print(\"\\n-----------------------------------------------\")\n",
    "            print(\"       Congratulations, you won the game !\")\n",
    "            print(\"-------------------------------------------------\")\n",
    "    else :\n",
    "        return lives\n",
    "\n",
    "\n",
    "def quizz(lives):\n",
    "    if lives > 0 :\n",
    "        user_answer = ask_question()\n",
    "        evaluate_answer(user_answer, lives)\n",
    "\n",
    "      \n",
    "\n",
    "    \n",
    "quizz(lives)"
   ]
  },
  {
   "cell_type": "code",
   "execution_count": null,
   "metadata": {
    "executionInfo": {
     "elapsed": 355,
     "status": "ok",
     "timestamp": 1695210350059,
     "user": {
      "displayName": "ursula dubois",
      "userId": "02331993589671185604"
     },
     "user_tz": -120
    },
    "id": "ow0_tqlXrCun"
   },
   "outputs": [],
   "source": [
    "# WIP : adding 3 different questions from a tuple passed to the functions\n",
    "\n",
    "lives = 2\n",
    "\n",
    "def ask_question():\n",
    "    print(\"-------------- Question 1 --------------\")\n",
    "    print(\"1) Paris\")\n",
    "    print(\"2) Rome\")\n",
    "    print(\"3) Moscou\")\n",
    "    print(\"4) Marseille\")\n",
    "    user_answer = input(\"\\nQuelle est la capitale de la France ? (Entrez le numéro de votre choix)  \")\n",
    "    return user_answer\n",
    "\n",
    "\n",
    "def evaluate_answer(user_answer, lives):\n",
    "    while user_answer != \"1\" :\n",
    "        print(\"\\nToo bad ! That is not the correct answer.\\n\")\n",
    "        lives -= 1\n",
    "        user_answer = input(\"\\nQuelle est la capitale de la France ? (Entrez le numéro de votre choix)  \")\n",
    "        if lives == 0 :\n",
    "            print(\"\\n-------------------------------------------------\")\n",
    "            print(\"Too bad, you lost the game !\")\n",
    "            print(\"-------------------------------------------------\")\n",
    "            break\n",
    "\n",
    "    if user_answer == \"1\" :\n",
    "        print(\"\\nGood job! This is the right answer \\n\")\n",
    "        if lives == 0:\n",
    "            return lives\n",
    "        else:\n",
    "            print(\"\\n-----------------------------------------------\")\n",
    "            print(\"       Congratulations, you won the game !\")\n",
    "            print(\"-------------------------------------------------\")\n",
    "    else :\n",
    "        return lives\n",
    "\n",
    "\n",
    "def quizz(lives):\n",
    "    if lives > 0 :\n",
    "        user_answer = ask_question()\n",
    "        evaluate_answer(user_answer, lives)\n",
    "\n",
    "        \n",
    "quizz_questions = (\n",
    "    (\"Quelle est la capitale de la France ? (Entrez le numéro de votre choix)\", (\"1) Paris\", \"2) Rome\", \"3) Moscou\", \"4) Marseille\"), \"1\"),\n",
    "    (\"Quelle est la capitale de la Russie ? (Entrez le numéro de votre choix)\", (\"1) Paris\", \"2) Rome\", \"3) Moscou\", \"4) Marseille\"), \"3\"),\n",
    "    (\"Quelle est la capitale de l'Italie' ? (Entrez le numéro de votre choix)\", (\"1) Paris\", \"2) Rome\", \"3) Moscou\", \"4) Marseille\"), \"2\")\n",
    ")\n",
    "    \n",
    "quizz(lives)\n"
   ]
  },
  {
   "cell_type": "code",
   "execution_count": null,
   "metadata": {
    "colab": {
     "base_uri": "https://localhost:8080/",
     "height": 1000
    },
    "executionInfo": {
     "elapsed": 24316,
     "status": "error",
     "timestamp": 1695213539124,
     "user": {
      "displayName": "ursula dubois",
      "userId": "02331993589671185604"
     },
     "user_tz": -120
    },
    "id": "rA-XJKh-orgc",
    "outputId": "20f27ee8-f816-464f-cfaa-06284bd207b4"
   },
   "outputs": [],
   "source": [
    "# autre version WIP\n",
    "# problème à régler : \n",
    "# même lorsque le game over est prononcé sur une question après trois erreurs, le code passe à la question suivante\n",
    "def ask_question(question):\n",
    "    user_answer = \"\"\n",
    "    lives = 3\n",
    "    play = True\n",
    "    if lives > 0 :\n",
    "        while user_answer != question[2]:\n",
    "            for element in question[1]:\n",
    "                print(f\"{element}\\n\")\n",
    "            user_answer = input(f\"\\n{question[0]}  \")\n",
    "            if user_answer == question[2]:\n",
    "                print(\"Good job! This is the right answer\\n\")\n",
    "            else:\n",
    "                lives -= 1\n",
    "                print(f\"Sorry, you have {lives} chances left\\n\")\n",
    "                if lives == 0 :\n",
    "                    print(\"What a pity, you lost the game ! Try again.\")\n",
    "                    play = False\n",
    "                    return play\n",
    "        play = True\n",
    "        return lives, play\n",
    "                \n",
    "\n",
    "\n",
    "def quizz(quizz_questions, play):\n",
    "    i = 0\n",
    "    print(\"Welcome to our quizz !\")\n",
    "    print(\"You have 3 lives.\")\n",
    "    print(\"---------------------------\")\n",
    "    while play :\n",
    "        question = quizz_questions[i]\n",
    "        ask_question(question)\n",
    "        i += 1\n",
    "    if lives > 0 :\n",
    "        print(\"Well done ! You won the game ! \")\n",
    "\n",
    "play = True       \n",
    "quizz_questions = (\n",
    "    (\"Quelle est la capitale de la France ? (Entrez le numéro de votre choix)\", (\"1) Paris\", \"2) Rome\", \"3) Moscou\", \"4) Marseille\"), \"1\"),\n",
    "    (\"Quelle est la capitale de la Russie ? (Entrez le numéro de votre choix)\", (\"1) Paris\", \"2) Rome\", \"3) Moscou\", \"4) Marseille\"), \"3\"),\n",
    "    (\"Quelle est la capitale de l'Italie' ? (Entrez le numéro de votre choix)\", (\"1) Paris\", \"2) Rome\", \"3) Moscou\", \"4) Marseille\"), \"2\")\n",
    ")\n",
    "\n",
    "quizz(quizz_questions, play)"
   ]
  },
  {
   "cell_type": "code",
   "execution_count": null,
   "metadata": {
    "executionInfo": {
     "elapsed": 2,
     "status": "ok",
     "timestamp": 1695210350553,
     "user": {
      "displayName": "ursula dubois",
      "userId": "02331993589671185604"
     },
     "user_tz": -120
    },
    "id": "ndQ3UE24DGPq"
   },
   "outputs": [],
   "source": []
  },
  {
   "cell_type": "code",
   "execution_count": null,
   "metadata": {
    "executionInfo": {
     "elapsed": 217,
     "status": "ok",
     "timestamp": 1695211278307,
     "user": {
      "displayName": "ursula dubois",
      "userId": "02331993589671185604"
     },
     "user_tz": -120
    },
    "id": "4pnoWVwJEAWL"
   },
   "outputs": [],
   "source": [
    "\n"
   ]
  },
  {
   "cell_type": "code",
   "execution_count": null,
   "metadata": {
    "id": "h-2jMF95TgJP"
   },
   "outputs": [],
   "source": []
  }
 ],
 "metadata": {
  "colab": {
   "provenance": [
    {
     "file_id": "1ixd2TJK1Xe5w2aWWUUEM5ErwPMc3aLnU",
     "timestamp": 1695106321967
    }
   ]
  },
  "kernelspec": {
   "display_name": "Python 3 (ipykernel)",
   "language": "python",
   "name": "python3"
  },
  "language_info": {
   "codemirror_mode": {
    "name": "ipython",
    "version": 3
   },
   "file_extension": ".py",
   "mimetype": "text/x-python",
   "name": "python",
   "nbconvert_exporter": "python",
   "pygments_lexer": "ipython3",
   "version": "3.10.12"
  }
 },
 "nbformat": 4,
 "nbformat_minor": 1
}
